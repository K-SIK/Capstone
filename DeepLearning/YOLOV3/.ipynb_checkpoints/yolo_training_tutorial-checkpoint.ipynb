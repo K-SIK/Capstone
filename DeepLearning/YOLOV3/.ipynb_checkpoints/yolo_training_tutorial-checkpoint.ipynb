{
 "cells": [
  {
   "cell_type": "markdown",
   "id": "c5997674",
   "metadata": {},
   "source": [
    "# YOLO Training Tutorial\n",
    "\n",
    "In this notebook, I will talk about training process using VOC 2012 dataset. "
   ]
  },
  {
   "cell_type": "markdown",
   "id": "3e6c31b4",
   "metadata": {},
   "source": [
    "### Requirements\n",
    "\n",
    "1. Able to detect image using pretrained darknet model\n",
    "2. Many Gigabytes of Disk Space\n",
    "3. High Speed Internet Connection Preferred\n",
    "4. GPU Preferred"
   ]
  },
  {
   "cell_type": "markdown",
   "id": "dc6a91ff",
   "metadata": {},
   "source": [
    "### 1. Download Dataset\n",
    "\n",
    "You can read the full description of VOC dataset [here](http://host.robots.ox.ac.uk/pascal/VOC/)"
   ]
  },
  {
   "cell_type": "markdown",
   "id": "b04c2162",
   "metadata": {},
   "source": [
    "#### In command, "
   ]
  },
  {
   "cell_type": "markdown",
   "id": "070fbdc2",
   "metadata": {},
   "source": [
    "먼저, VOC 데이터셋 공식 사이트에서 훈련/검증 데이터셋을 data/ 에 다운로드 받습니다. \n",
    "\n",
    "> wget http://host.robots.ox.ac.uk/pascal/VOC/voc2012/VOCtrainval_11-May-2012.tar -O ./data/voc2012_raw.tar\n",
    "\n",
    "만약 Windows 운영체제를 사용한다면, wget 설치 파일을 시스템 폴더에 포함시켜서 wget 명령어를 사용하거나, 사이트에서 직접 다운로드합니다. \n",
    "\n",
    "윈도우에서 wget 명령어를 사용하는 방법은 [이 블로그](https://sound10000w.tistory.com/229)를 참조하세요. "
   ]
  },
  {
   "cell_type": "markdown",
   "id": "8a43fb4d",
   "metadata": {},
   "source": [
    "다운로드 받은 VOC 2012 데이터셋은 tar 파일로 압축되어 있습니다. 압축을 푼 데이터들을 저장할 디렉터리를 하나 만들어줍니다. \n",
    "\n",
    "> mkdir -p ./data/voc2012_raw"
   ]
  },
  {
   "cell_type": "markdown",
   "id": "b4376e73",
   "metadata": {},
   "source": [
    "tar 파일을 앞서 만든 디렉터리에 압축 해제합니다. \n",
    "\n",
    "> tar -xf ./data/voc2012_raw.tar -C ./data/voc2012_raw\n",
    "\n",
    "만약 Windows 운영체제를 사용한다면, tar 압축/압축 해제 용 프로그램을 설치해야 합니다. \n",
    "\n",
    "설치 및 압축/압축해제 과정은 [이 블로그](https://www.itopening.com/708/)를 참조하세요. "
   ]
  },
  {
   "cell_type": "markdown",
   "id": "f6792117",
   "metadata": {},
   "source": [
    "데이터셋을 한 번 보겠습니다. \n",
    "\n",
    "> ls ./data/voc2012_raw/VOCdevkit/VOC2012 \n",
    "\n",
    "파이썬 코드로는 아래와 같습니다. "
   ]
  },
  {
   "cell_type": "code",
   "execution_count": 2,
   "id": "f5b7210e",
   "metadata": {},
   "outputs": [
    {
     "name": "stdout",
     "output_type": "stream",
     "text": [
      "Annotations\n",
      "ImageSets\n",
      "JPEGImages\n",
      "SegmentationClass\n",
      "SegmentationObject\n"
     ]
    }
   ],
   "source": [
    "import os\n",
    "\n",
    "path = './data/voc2012_raw/VOCdevkit/VOC2012'\n",
    "file_list = os.listdir(path)\n",
    "\n",
    "print(*file_list, sep='\\n')"
   ]
  },
  {
   "cell_type": "markdown",
   "id": "8899593d",
   "metadata": {},
   "source": [
    "### 2. Transform Dataset\n",
    "\n",
    "See tools/voc2012.py for implementation, this format is based on [tensorflow object detection API](https://github.com/tensorflow/models/tree/master/research/object_detection). \n",
    "\n",
    "Many fields are not required, I left them there for compatibility with official API."
   ]
  },
  {
   "cell_type": "markdown",
   "id": "db06494c",
   "metadata": {},
   "source": [
    "#### In command, "
   ]
  },
  {
   "cell_type": "markdown",
   "id": "419236db",
   "metadata": {},
   "source": [
    "> python tools/voc2012.py \\\n",
    "  --data_dir ./data/voc2012_raw/VOCdevkit/VOC2012 \\\n",
    "  --split train \\\n",
    "  --output_file ./data/voc2012_train.tfrecord\n",
    "  \n",
    "> python tools/voc2012.py \\\n",
    "  --data_dir ./data/voc2012_raw/VOCdevkit/VOC2012 \\\n",
    "  --split val \\\n",
    "  --output_file ./data/voc2012_val.tfrecord"
   ]
  },
  {
   "cell_type": "markdown",
   "id": "933b83d6",
   "metadata": {},
   "source": [
    "아래 명령을 통해 데이터셋을 visualize할 수 있습니다. \n",
    "\n",
    "> python tools/visualize_dataset.py --classes ./data/voc2012.names\n",
    "\n",
    "위 명령을 커맨드에서 실행하면 데이터셋 중 하나의 이미지를 랜덤으로 output.jpg로 저장합니다. "
   ]
  },
  {
   "cell_type": "markdown",
   "id": "3675d000",
   "metadata": {},
   "source": [
    "### 3. Training\n",
    "\n",
    "You can adjust the parameters based on your setup\n",
    "\n",
    "> python train.py \\\n",
    "\t--dataset ./data/voc2012_train.tfrecord \\\n",
    "\t--val_dataset ./data/voc2012_val.tfrecord \\\n",
    "\t--classes ./data/voc2012.names \\\n",
    "\t--num_classes 20 \\\n",
    "\t--mode fit --transfer darknet \\\n",
    "\t--batch_size 16 \\\n",
    "\t--epochs 10 \\\n",
    "\t--weights ./checkpoints/yolov3.tf \\\n",
    "\t--weights_num_classes 80 "
   ]
  },
  {
   "cell_type": "markdown",
   "id": "459ea009",
   "metadata": {},
   "source": [
    "I have tested this works 100% with correct loss and converging over time.\n",
    "Each epoch takes around 10 minutes on single AWS p2.xlarge (Nvidia K80 GPU) Instance.\n",
    "\n",
    "You might see warnings or error messages during training, they are not critical dont' worry too much about them.\n",
    "There might be a long wait time between each epoch becaues we are calculating validation loss."
   ]
  },
  {
   "cell_type": "markdown",
   "id": "43742635",
   "metadata": {},
   "source": [
    "#### 4. Inference\n",
    "\n",
    "**detect from images**\n",
    "\n",
    "> python detect.py \\\n",
    "\t--classes ./data/voc2012.names \\\n",
    "\t--num_classes 20 \\\n",
    "\t--weights ./checkpoints/yolov3_train_5.tf \\\n",
    "\t--image ./data/street.jpg\n",
    "\n",
    "**detect from validation set**\n",
    "\n",
    "> python detect.py \\\n",
    "\t--classes ./data/voc2012.names \\\n",
    "\t--num_classes 20 \\\n",
    "\t--weights ./checkpoints/yolov3_train_5.tf \\\n",
    "\t--tfrecord ./data/voc2012_val.tfrecord"
   ]
  },
  {
   "cell_type": "code",
   "execution_count": null,
   "id": "ea67cd9b",
   "metadata": {},
   "outputs": [],
   "source": []
  },
  {
   "cell_type": "code",
   "execution_count": null,
   "id": "d79770cb",
   "metadata": {},
   "outputs": [],
   "source": []
  }
 ],
 "metadata": {
  "kernelspec": {
   "display_name": "Python 3 (ipykernel)",
   "language": "python",
   "name": "python3"
  },
  "language_info": {
   "codemirror_mode": {
    "name": "ipython",
    "version": 3
   },
   "file_extension": ".py",
   "mimetype": "text/x-python",
   "name": "python",
   "nbconvert_exporter": "python",
   "pygments_lexer": "ipython3",
   "version": "3.9.6"
  }
 },
 "nbformat": 4,
 "nbformat_minor": 5
}
